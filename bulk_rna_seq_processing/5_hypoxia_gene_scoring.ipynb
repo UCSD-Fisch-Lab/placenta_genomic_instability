{
 "cells": [
  {
   "attachments": {},
   "cell_type": "markdown",
   "id": "039c79d6-bf60-4924-9849-12fb2710c677",
   "metadata": {},
   "source": [
    "# Hypoxia gene scoring\n",
    "\n",
    "We followed the gene scoring method of Bhandari et al., 2020. The median mRNA expression level across our bulk RNA-seq samples was computed for every gene for hypoxia gene signatures. Samples with mRNA expression levels greater than the gene’s associated median were assigned a score of +1 and those with expression levels below the median a score of -1. The sum of these individual scores for each sample across the three signatures in a given gene was the resulting gene’s score."
   ]
  },
  {
   "cell_type": "code",
   "execution_count": null,
   "id": "aae74469-8bed-4517-9a71-9648e3a9c52b",
   "metadata": {},
   "outputs": [],
   "source": [
    "library(dplyr)\n",
    "library(data.table)\n",
    "library(gdata)\n",
    "library(tidyr)\n",
    "library(biomaRt)\n",
    "library(ggplot2)\n",
    "library(ggpubr)\n",
    "library(rstatix)"
   ]
  },
  {
   "cell_type": "code",
   "execution_count": null,
   "id": "ab1447a4-c111-46c8-84c8-48528c15a2b2",
   "metadata": {},
   "outputs": [],
   "source": [
    "# use normalized gene expression from samples\n",
    "rnaseq <- read.csv('TMM_Voom_Normalized_Gene_expression_salmon_20230828.csv', header = TRUE) \n",
    "row.names(rnaseq) <- rnaseq$X\n",
    "rnaseq <- rnaseq[, -1]\n",
    "\n",
    "#row names are the ensembl ids that you want to map to gene symbols\n",
    "ensembl_ids <- rownames(rnaseq)\n",
    "head(rnaseq)"
   ]
  },
  {
   "cell_type": "code",
   "execution_count": null,
   "id": "80ee265f-d0c4-4c54-b08e-3b9703ca0e3f",
   "metadata": {},
   "outputs": [],
   "source": [
    "#read in the text file containing gene signatures\n",
    "buffa_gene_signatures <- read.table(\"buffa_hypoxia_gene_signatures.txt\", header = FALSE, stringsAsFactors = FALSE)\n",
    "buffa_gene_signatures <- buffa_gene_signatures$V1\n",
    "\n",
    "print(buffa_gene_signatures)"
   ]
  },
  {
   "cell_type": "code",
   "execution_count": null,
   "id": "84975bad-ef08-4340-9bdd-951a4d1ac8a9",
   "metadata": {},
   "outputs": [],
   "source": [
    "#converting ENSEMBLIDs into gene names for scoring\n",
    "ensembl <- useMart(\"ensembl\")\n",
    "dataset <- useDataset(\"hsapiens_gene_ensembl\", mart = ensembl)\n",
    "ensemble_genenames <- getBM(attributes = c(\"ensembl_gene_id\", \"external_gene_name\"),\n",
    "                    filters = \"ensembl_gene_id\",\n",
    "                    values = ensembl_ids,\n",
    "                    mart = dataset)\n"
   ]
  },
  {
   "cell_type": "code",
   "execution_count": null,
   "id": "5c61bd52-5be4-4981-9733-555a9bcc6d48",
   "metadata": {},
   "outputs": [],
   "source": [
    "#ensemble_genenames will be a dataframe that maps the ensemblid to corresponding gene names\n",
    "head(ensemble_genenames, n = 10)"
   ]
  },
  {
   "cell_type": "code",
   "execution_count": null,
   "id": "78a3a462-ebdf-4fa3-8abd-ec32b6ddcd10",
   "metadata": {},
   "outputs": [],
   "source": [
    "#initializing empty dataframe with sample names as rows and gene as columns\n",
    "buffa_hypoxia_scoring_df <- data.frame(matrix(NA, nrow = ncol(rnaseq), ncol = length(buffa_gene_signatures)))\n",
    "rownames(buffa_hypoxia_scoring_df) <- colnames(rnaseq)\n",
    "colnames(buffa_hypoxia_scoring_df) <- buffa_gene_signatures\n",
    "\n",
    "head(buffa_hypoxia_scoring_df[, 1:5], n = 10)"
   ]
  },
  {
   "cell_type": "code",
   "execution_count": null,
   "id": "d1f0ffa0-6c52-4471-9613-6ee0320ac1e6",
   "metadata": {},
   "outputs": [],
   "source": [
    "#adding scores for each gene in the dataframe, BUFFA SIGNATURES ONLY\n",
    "for (i in seq_along(buffa_gene_signatures)) {\n",
    "  signature <- buffa_gene_signatures[[i]]\n",
    "  ensembl_id <- ensemble_genenames$ensembl_gene_id[ensemble_genenames$external_gene_name == signature]\n",
    "  \n",
    "  # check if ensembl_id is empty, edge case where gene might not be included in rnaseq data\n",
    "  if (length(ensembl_id) == 0) {\n",
    "    next  #skip this gene\n",
    "  }\n",
    "    \n",
    "  # calculate the median mRNA abundance for the gene across all samples\n",
    "  median_abundance <- apply(rnaseq[ensembl_id, ], 1, median)\n",
    "  \n",
    "  # Assign scores based on abundance values\n",
    "  for (j in 1:ncol(rnaseq)) {\n",
    "    if (rnaseq[ensembl_id, j] >= median_abundance) {\n",
    "      buffa_hypoxia_scoring_df[j, signature] <- 1\n",
    "    } else {\n",
    "      buffa_hypoxia_scoring_df[j, signature] <- -1\n",
    "    }\n",
    "  }\n",
    "}\n",
    "\n",
    "head(buffa_hypoxia_scoring_df, n = 10)\n",
    "print(dim(buffa_hypoxia_scoring_df))\n",
    "\n",
    "#checking which columns have NA\n",
    "na_columns <- apply(is.na(buffa_hypoxia_scoring_df), 2, any)\n",
    "names_with_missing <- names(na_columns)[na_columns]\n",
    "names_with_missing\n",
    "\n",
    "#remove columns with NA\n",
    "na_columns <- apply(is.na(buffa_hypoxia_scoring_df), 2, any)\n",
    "buffa_hypoxia_scoring_filtered <- buffa_hypoxia_scoring_df[, !na_columns]\n",
    "head(buffa_hypoxia_scoring_filtered, n = 10)\n",
    "\n",
    "#sum up the scores across genes for all samples and add a column indicating the hypoxia score\n",
    "row_sums <- rowSums(buffa_hypoxia_scoring_filtered)\n",
    "\n",
    "# add row sums as new column at beginning of dataframe\n",
    "buffa_hypoxia_scoring <- cbind(\"HypoxiaScoreBuffa\" = row_sums, buffa_hypoxia_scoring_filtered)\n",
    "head(buffa_hypoxia_scoring, n = 10)"
   ]
  },
  {
   "cell_type": "code",
   "execution_count": null,
   "id": "b7e6eabe-f77a-468b-8b4e-a659dcd95185",
   "metadata": {},
   "outputs": [],
   "source": [
    "#read in metadata file\n",
    "metadata <- read.csv('Metadata_gene_expression_112samples.csv', header = TRUE) \n",
    "row.names(metadata) <- metadata$X\n",
    "metadata <- metadata[, -1]\n",
    "\n",
    "#first check that ordering of samples in rnaseq data is the same as ordering of samples in metadata\n",
    "print(identical(rownames(buffa_hypoxia_scoring), rownames(metadata)))"
   ]
  },
  {
   "cell_type": "code",
   "execution_count": null,
   "id": "0ed2a612-0726-48c3-9f3a-f5083ba8b305",
   "metadata": {},
   "outputs": [],
   "source": [
    "#add hypoxia score column to metadata table\n",
    "metadata$HypoxiaScoreBuffa <- buffa_hypoxia_scoring$HypoxiaScoreBuffa\n",
    "\n",
    "metadata <- metadata[, c(\"HypoxiaScoreBuffa\", setdiff(names(metadata), \"HypoxiaScoreBuffa\"))]\n",
    "head(metadata, n = 20)"
   ]
  },
  {
   "cell_type": "code",
   "execution_count": null,
   "id": "ecbabd93-69f8-4451-a863-75fc8009eeeb",
   "metadata": {},
   "outputs": [],
   "source": [
    "#export data into a csv file\n",
    "write.csv(metadata, file = \"Metadata_gene_expression_112samples_hypoxia.csv\", row.names = TRUE)"
   ]
  }
 ],
 "metadata": {
  "kernelspec": {
   "display_name": "Python 3 (ipykernel)",
   "language": "python",
   "name": "python3"
  },
  "language_info": {
   "codemirror_mode": {
    "name": "ipython",
    "version": 3
   },
   "file_extension": ".py",
   "mimetype": "text/x-python",
   "name": "python",
   "nbconvert_exporter": "python",
   "pygments_lexer": "ipython3",
   "version": "3.12.1"
  }
 },
 "nbformat": 4,
 "nbformat_minor": 5
}
