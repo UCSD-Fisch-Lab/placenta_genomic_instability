{
 "cells": [
  {
   "cell_type": "markdown",
   "id": "5fa67766-d52e-49ba-9b45-caa75a511ab7",
   "metadata": {},
   "source": [
    "# save maf object\n",
    "- pre-filter for depth of > 50, max_af < 0.01, filter == PASS"
   ]
  },
  {
   "cell_type": "code",
   "execution_count": null,
   "id": "425b0922-a3cd-406f-b91b-b42af9538ef4",
   "metadata": {
    "scrolled": true
   },
   "outputs": [],
   "source": [
    "library(future)\n",
    "library(maftools)\n",
    "library(dplyr)\n",
    "library(data.table)\n",
    "library(gdata)\n",
    "plan(\"multicore\", workers=15)\n",
    "options(future.globals.maxSize=120000 * 1024^2)"
   ]
  },
  {
   "cell_type": "markdown",
   "id": "b4e56610-b5a5-4229-a906-7fa6f98b85c6",
   "metadata": {},
   "source": [
    "## data loading "
   ]
  },
  {
   "cell_type": "code",
   "execution_count": null,
   "id": "a99d787f-019d-4330-aac3-588b4c827c07",
   "metadata": {},
   "outputs": [],
   "source": [
    "main_path <- \"/expanse/lustre/projects/csd728/m7huang/somatic_filtering_20250528/all_samples/discovery/\""
   ]
  },
  {
   "cell_type": "code",
   "execution_count": null,
   "id": "5d00b613-b76c-4dc0-a471-1a2dccf542af",
   "metadata": {},
   "outputs": [],
   "source": [
    "mafs <- list.files(paste0(main_path, \"maf_samples\"), \n",
    "           full.names = TRUE)\n",
    "head(mafs)"
   ]
  },
  {
   "cell_type": "code",
   "execution_count": null,
   "id": "73729ce9-420d-4dfc-8e2e-970645ff4925",
   "metadata": {},
   "outputs": [],
   "source": [
    "sampleNames <- list.files(paste0(main_path, \"maf_samples\"))\n",
    "sampleNames <- sub(\"\\\\.maf$\", \"\", sampleNames)\n",
    "head(sampleNames)"
   ]
  },
  {
   "cell_type": "code",
   "execution_count": null,
   "id": "d829c56c-7d20-459f-9e05-674504dbf929",
   "metadata": {},
   "outputs": [],
   "source": [
    "filepath <- file.path(paste0(main_path, \"maf_objs\"))\n",
    "filepath"
   ]
  },
  {
   "cell_type": "markdown",
   "id": "9e4e3247-82a7-46cf-bc6b-22913f453d5a",
   "metadata": {},
   "source": [
    "## maf filtering"
   ]
  },
  {
   "cell_type": "code",
   "execution_count": null,
   "id": "a208ce91-318d-487b-8605-4162fd10a175",
   "metadata": {},
   "outputs": [],
   "source": [
    "# filters maf files and stores into maf_objs directory\n",
    "\n",
    "filterMafObj <- function(maf, sampleName){\n",
    "    mafObj <- read.maf(maf)\n",
    "    \n",
    "    rare <- subsetMaf(mafObj, query = (\"t_depth >= 50\"), mafObj = FALSE)\n",
    "    # rare2 <- subset(rare, (!Variant_Classification %in% c(\"RNA\", \"Silent\",\"3'UTR\", \"Intron\", \"Splice_Region\", \"5'UTR\",\"3'Flank\",\"5'Flank\")))\n",
    "    rare3 <- subset(rare, (MAX_AF < 0.01 | is.na(MAX_AF) | MAX_AF==\"\" | MAX_AF==\"-\" | MAX_AF==\".\"))\n",
    "    rare4 <- subset(rare3, FILTER == \"PASS\")\n",
    "    rare5 <- read.maf(rare4)\n",
    "    \n",
    "    fileName <- paste(sampleName, \".RData\", sep = \"\")\n",
    "    save(rare4, file = file.path(filepath, fileName))\n",
    "}\n",
    "mapply(filterMafObj, mafs, sampleNames)"
   ]
  },
  {
   "cell_type": "markdown",
   "id": "7c9e9889-9547-4d27-92ff-b71fdb1d4128",
   "metadata": {},
   "source": [
    "## maf merging"
   ]
  },
  {
   "cell_type": "code",
   "execution_count": null,
   "id": "2a8f9614-7725-48ee-83d2-898a1d86d226",
   "metadata": {},
   "outputs": [],
   "source": [
    "maf_files <- list.files(filepath, full.names = TRUE)\n",
    "head(maf_files)"
   ]
  },
  {
   "cell_type": "code",
   "execution_count": null,
   "id": "88e85525-7f09-45d8-8332-6285bc808a54",
   "metadata": {
    "scrolled": true
   },
   "outputs": [],
   "source": [
    "#loads all maf objects under unique names for upcoming merge\n",
    "readMafObj <- function(maf, sampleName){\n",
    "    load(maf, envir = .GlobalEnv)\n",
    "    mv(from = \"rare4\", to = sampleName, envir = .GlobalEnv)\n",
    "}\n",
    "mapply(readMafObj, maf_files, sampleNames)"
   ]
  },
  {
   "cell_type": "code",
   "execution_count": null,
   "id": "b6e8ecb2-5ac1-4bf7-814f-8c47bed544a1",
   "metadata": {},
   "outputs": [],
   "source": [
    "mafObjs <- mget(ls(pattern = \"^Sample\"))\n",
    "length(mafObjs)"
   ]
  },
  {
   "cell_type": "code",
   "execution_count": null,
   "id": "27ddf0aa-6411-43f7-a237-8d21f3eaca0c",
   "metadata": {},
   "outputs": [],
   "source": [
    "merged_maf_obj <- merge_mafs(mafObjs)\n",
    "merged_maf_obj"
   ]
  },
  {
   "cell_type": "code",
   "execution_count": null,
   "id": "f64ba0b7-6e66-4823-8177-c57e00b4ac97",
   "metadata": {},
   "outputs": [],
   "source": [
    "save(merged_maf_obj, file = paste0(main_path, \"merged_maf_obj_20250602.RData\"))"
   ]
  },
  {
   "cell_type": "markdown",
   "id": "633ff413-571d-4262-9795-e857aa2c3221",
   "metadata": {},
   "source": [
    "# rare and rare damaging variants"
   ]
  },
  {
   "cell_type": "code",
   "execution_count": null,
   "id": "de58da87-38f5-4a7b-9ffa-e47254738140",
   "metadata": {},
   "outputs": [],
   "source": [
    "main_path <- \"/expanse/lustre/projects/csd728/m7huang/somatic_filtering_20250528/all_samples/discovery/\"\n",
    "obj <- \"merged_maf_obj_20250602.RData\""
   ]
  },
  {
   "cell_type": "code",
   "execution_count": null,
   "id": "09ec7bf4-00ca-4ab4-9dac-2c5f616d01ce",
   "metadata": {},
   "outputs": [],
   "source": [
    "load(paste0(main_path, obj))\n",
    "disc <- merged_maf_obj\n",
    "\n",
    "temp <- disc@data\n",
    "temp$cohort <- \"disc\"\n",
    "disc@data <- temp\n",
    "head(disc@data)"
   ]
  },
  {
   "cell_type": "code",
   "execution_count": null,
   "id": "2ac7bd7e-9b65-4a53-9632-92fde6d029a6",
   "metadata": {},
   "outputs": [],
   "source": [
    "disc"
   ]
  },
  {
   "cell_type": "code",
   "execution_count": null,
   "id": "283de6a2-fd12-4d3a-a28d-40944a676415",
   "metadata": {},
   "outputs": [],
   "source": [
    "main_path <- \"/expanse/lustre/projects/csd728/m7huang/somatic_filtering_20250528/all_samples/validation/\"\n",
    "obj <- \"validation_merged_maf_obj_20250602.RData\"\n",
    "load(paste0(main_path, obj))\n",
    "val <- merged_maf_obj\n",
    "\n",
    "temp <- val@data\n",
    "temp$cohort <- \"val\"\n",
    "val@data <- temp\n",
    "head(val@data)"
   ]
  },
  {
   "cell_type": "code",
   "execution_count": null,
   "id": "1fe3347f-b83b-4e19-8631-365ae2623e61",
   "metadata": {},
   "outputs": [],
   "source": [
    "val"
   ]
  },
  {
   "cell_type": "code",
   "execution_count": null,
   "id": "3c938afd-7acd-46de-b9f7-fa733c4b68af",
   "metadata": {},
   "outputs": [],
   "source": [
    "rare <- disc\n",
    "name <- \"disc_20250721\"\n",
    "\n",
    "# rare <- val\n",
    "# name <- \"val_20250721\"\n",
    "rare"
   ]
  },
  {
   "cell_type": "code",
   "execution_count": null,
   "id": "008fd7d2-4ec4-497c-a546-52949156d4cd",
   "metadata": {},
   "outputs": [],
   "source": [
    "table(rare@data$'Variant_Classification')"
   ]
  },
  {
   "cell_type": "code",
   "execution_count": null,
   "id": "a43fdd31-4fbd-4e03-abe6-affda90413f6",
   "metadata": {},
   "outputs": [],
   "source": [
    "rare <- subset(rare@data, \n",
    "               (!Variant_Classification %in% c(\"RNA\", \"Silent\", \"Splice_Site\")))\n"
   ]
  },
  {
   "cell_type": "code",
   "execution_count": null,
   "id": "a3dd48da-f977-40ed-ab43-99502d0c5324",
   "metadata": {},
   "outputs": [],
   "source": [
    "table(rare$'Variant_Classification')"
   ]
  },
  {
   "cell_type": "code",
   "execution_count": null,
   "id": "34ec8513-1c80-4ee3-900a-07e71b4b86f4",
   "metadata": {},
   "outputs": [],
   "source": [
    "# rare <- merged_maf_obj@data\n",
    "dim(rare)"
   ]
  },
  {
   "cell_type": "markdown",
   "id": "eab258f7-25d4-4c5e-9371-e61428b29928",
   "metadata": {},
   "source": [
    "## variant filtration"
   ]
  },
  {
   "cell_type": "code",
   "execution_count": null,
   "id": "81a54f7d-de09-49a6-a522-279dbe75d942",
   "metadata": {},
   "outputs": [],
   "source": [
    "#keep variants that are in gnomAD database \n",
    "rare_gnomad <- subset(rare, ((!is.na(MAX_AF) | !MAX_AF==\"\" | !MAX_AF==\"-\" | !MAX_AF==\".\")))\n",
    "\n",
    "dim(rare)\n",
    "dim(rare_gnomad)"
   ]
  },
  {
   "cell_type": "code",
   "execution_count": null,
   "id": "2a8da497-9f33-4e89-8e50-0b113371e63f",
   "metadata": {},
   "outputs": [],
   "source": [
    "rare_novel <- subset(rare, ((is.na(MAX_AF) | MAX_AF==\"\" | MAX_AF==\"-\" | MAX_AF==\".\") & !(is.na(dbSNP_RS) | dbSNP_RS == \"novel\"|dbSNP_RS == \"\")))\n",
    "\n",
    "dim(rare)\n",
    "dim(rare_novel)"
   ]
  },
  {
   "cell_type": "code",
   "execution_count": null,
   "id": "b52723c2-faac-4494-9dbb-2a28846f8c36",
   "metadata": {},
   "outputs": [],
   "source": [
    "rare_indels <- subset(rare, !(Variant_Type == \"SNP\") & (!(is.na(dbSNP_RS) | dbSNP_RS == \"novel\"|dbSNP_RS == \"\") | !(is.na(MAX_AF) | MAX_AF==\"\" | MAX_AF==\"-\" | MAX_AF==\".\")))\n",
    "\n",
    "dim(rare)\n",
    "dim(rare_indels)"
   ]
  },
  {
   "cell_type": "code",
   "execution_count": null,
   "id": "6df2978a-c008-43e7-a1d5-b6a64b6a56ab",
   "metadata": {},
   "outputs": [],
   "source": [
    "rare_merge1 <- rbind(rare_gnomad, rare_novel)\n",
    "dim(rare_gnomad)\n",
    "dim(rare_novel)\n",
    "dim(rare_merge1)\n",
    "\n",
    "rare_merge<-rbind(rare_merge1, rare_indels)\n",
    "dim(rare_indels)\n",
    "dim(rare_merge)"
   ]
  },
  {
   "cell_type": "code",
   "execution_count": null,
   "id": "7453c8d6-1afd-42c2-8571-bf510bf46df1",
   "metadata": {},
   "outputs": [],
   "source": [
    "# Remove duplicate rows (all columns)\n",
    "library(dplyr)\n",
    "rare_unique <- rare_merge %>% distinct()\n",
    "dim(rare_unique)\n",
    "head(rare_unique)"
   ]
  },
  {
   "cell_type": "code",
   "execution_count": null,
   "id": "ac626488-f25c-447f-8d5c-daa69d9a1932",
   "metadata": {},
   "outputs": [],
   "source": [
    "rare_unique_maf <- read.maf(rare_unique)\n",
    "\n",
    "plotmafSummary(maf = rare_unique_maf, rmOutlier = TRUE, \n",
    "               addStat = 'median', dashboard = TRUE, titvRaw = TRUE)\n",
    "rare_unique_maf"
   ]
  },
  {
   "cell_type": "markdown",
   "id": "cf5eba31-cae5-45fa-8148-54c6d96dbd07",
   "metadata": {},
   "source": [
    "## patient & gene level filtration"
   ]
  },
  {
   "cell_type": "code",
   "execution_count": null,
   "id": "bdffb177-8ff0-4f4a-b7e1-c398cd33668a",
   "metadata": {},
   "outputs": [],
   "source": [
    "#remove variants occurring in all patients (or some >% of patients) to remove false positives\n",
    "\n",
    "df <- rare_unique\n",
    "# get number of samples\n",
    "(( n_Source_MAF <- df %>% pull(Tumor_Sample_Barcode) %>% unique() %>% length() ))\n",
    "\n",
    "rare_vars <- df %>% \n",
    "    select(Tumor_Sample_Barcode, dbSNP_RS) %>% \n",
    "    group_by(dbSNP_RS) %>% \n",
    "    count() %>% # count how many samples the variant is present in\n",
    "    ungroup() %>% \n",
    "    filter(n<(0.7*n_Source_MAF)) %>% # filter out variants present in 70%+ of samples\n",
    "    pull(dbSNP_RS)\n",
    "\n",
    "length(rare_vars)\n",
    "head(rare_vars)"
   ]
  },
  {
   "cell_type": "code",
   "execution_count": null,
   "id": "138dd93d-d3ec-46e5-a7b7-3bb75e1a7d54",
   "metadata": {},
   "outputs": [],
   "source": [
    "rare_filtered <- subset(rare_unique, dbSNP_RS %in% rare_vars)\n",
    "dim(rare_filtered)\n",
    "head(rare_filtered)\n",
    "\n",
    "rare_filtered_maf <- read.maf(rare_filtered)\n",
    "rare_filtered_maf\n",
    "plotmafSummary(maf = rare_filtered_maf, rmOutlier = TRUE, addStat = 'median', dashboard = TRUE, titvRaw = TRUE)"
   ]
  },
  {
   "cell_type": "code",
   "execution_count": null,
   "id": "b03867b7-ed7d-4cd3-92ce-aa8982b1f9ca",
   "metadata": {},
   "outputs": [],
   "source": [
    "flags <-c('TTN','MUC16','OBSCN','AHNAK2','SYNE1','FLG','MUC5B','DNAH17','PLEC',\n",
    "          'DST','SYNE2','NEB','HSPG2','LAMA5','AHNAK','HMCN1', 'USH2A','DNAH11',\n",
    "          'MACF1','MUC17','DNAH5','GPR98','FAT1','PKD1','MDN1','RNF213','RYR1',\n",
    "          'DNAH2','DNAH3','DNAH8','DNAH1','DNAH9', 'ABCA13','APOB','SRRM2','CUBN',\n",
    "          'SPTBN5','PKHD1','LRP2','FBN3','CDH23','DNAH10','FAT4','RYR3','PKHD1L1',\n",
    "          'FAT2','CSMD1','PCNT', 'COL6A3','FRAS1','FCGBP','DNAH7','RP1L1','PCLO',\n",
    "          'ZFHX3','COL7A1','LRP1B','FAT3','EPPK1','VPS13C','HRNR','MKI67','MYO15A',\n",
    "          'STAB1','ZAN','UBR4','VPS13B','LAMA1','XIRP2','BSN','KMT2C','ALMS1','CELSR1',\n",
    "          'TG','LAMA3','DYNC2H1','KMT2D','BRCA2','CMYA5','SACS', 'STAB2','AKAP13',\n",
    "          'UTRN','VWF','VPS13D','ANK3','FREM2','PKD1L1','LAMA2','ABCA7','LRP1','ASPM',\n",
    "          'MYOM2','PDE4DIP','TACC2','MUC2','TEP1','HELZ2','HERC2','ABCA4')\n",
    "rare_filtered_no_flags <- subset(rare_filtered, !Hugo_Symbol %in% flags)\n",
    "\n",
    "rare_filtered_no_flags_maf <- read.maf(rare_filtered_no_flags)\n",
    "rare_filtered_no_flags_maf\n",
    "plotmafSummary(maf = rare_filtered_no_flags_maf, rmOutlier = TRUE, addStat = 'median', dashboard = TRUE, titvRaw = TRUE)"
   ]
  },
  {
   "cell_type": "code",
   "execution_count": null,
   "id": "417d5699-a5a8-4383-aae8-6a860355a2e5",
   "metadata": {},
   "outputs": [],
   "source": [
    "filter_genes <- getGeneSummary(rare_filtered_no_flags_maf)[,c('Hugo_Symbol', 'MutatedSamples')]\n",
    "num_samples <- rare_filtered_no_flags_maf@data %>% pull(Tumor_Sample_Barcode) %>% unique() %>% length() \n",
    "\n",
    "print(num_samples)\n",
    "head(filter_genes)\n",
    "\n",
    "filter_genes <- subset(filter_genes, MutatedSamples > num_samples/2)$Hugo_Symbol\n",
    "head(filter_genes)"
   ]
  },
  {
   "cell_type": "code",
   "execution_count": null,
   "id": "5f11be44-86da-4e0e-86a9-c34bbd2143a9",
   "metadata": {},
   "outputs": [],
   "source": [
    "rare_final <- subset(rare_filtered_no_flags, !Hugo_Symbol %in% filter_genes)\n",
    "rare_final_maf <- read.maf(rare_final)\n",
    "rare_final_maf\n",
    "\n",
    "write.mafSummary(rare_final_maf, \n",
    "                 basename = paste0(\"/expanse/lustre/projects/csd728/m7huang/somatic_filtering_20250528/\",\n",
    "                                  name))\n",
    "\n",
    "plotmafSummary(maf = rare_final_maf, rmOutlier = TRUE, \n",
    "               addStat = 'median', dashboard = TRUE, titvRaw = TRUE)"
   ]
  },
  {
   "cell_type": "code",
   "execution_count": null,
   "id": "5f2b0a7d-5e49-4029-a72b-380686ec687a",
   "metadata": {},
   "outputs": [],
   "source": []
  },
  {
   "cell_type": "code",
   "execution_count": null,
   "id": "84bce07f-ee25-4dce-b965-3cd6047d2fba",
   "metadata": {},
   "outputs": [],
   "source": []
  },
  {
   "cell_type": "code",
   "execution_count": null,
   "id": "3846234c-914a-4dbd-bb92-f5d12038252a",
   "metadata": {},
   "outputs": [],
   "source": []
  },
  {
   "cell_type": "code",
   "execution_count": null,
   "id": "8117f8ed-7fcb-4c48-84ce-35e9bd664718",
   "metadata": {},
   "outputs": [],
   "source": []
  }
 ],
 "metadata": {
  "kernelspec": {
   "display_name": "Python 3 (ipykernel)",
   "language": "python",
   "name": "python3"
  },
  "language_info": {
   "codemirror_mode": {
    "name": "ipython",
    "version": 3
   },
   "file_extension": ".py",
   "mimetype": "text/x-python",
   "name": "python",
   "nbconvert_exporter": "python",
   "pygments_lexer": "ipython3",
   "version": "3.12.1"
  }
 },
 "nbformat": 4,
 "nbformat_minor": 5
}
